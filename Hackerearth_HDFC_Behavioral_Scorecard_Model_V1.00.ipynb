{
 "cells": [
  {
   "cell_type": "markdown",
   "metadata": {},
   "source": [
    "### Table of Contents\n",
    "* 1.) Exploratory Data Analysis\n",
    "    * 1.1) Categorical Variables\n",
    "    * 1.2) Numerical Variables\n",
    "    * 1.3) Missing data\n",
    "* 2.) Data Preparation\n",
    "* 3.) Simple Model\n",
    "* 4.) Hypertuning of Model\n",
    "    * 4.1) Logistic Regression\n",
    "    * 4.2) Random Forest\n",
    "* 5.) Final Model"
   ]
  },
  {
   "cell_type": "code",
   "execution_count": 1,
   "metadata": {
    "collapsed": false
   },
   "outputs": [
    {
     "name": "stdout",
     "output_type": "stream",
     "text": [
      "D:\\IPython Jupyter\\HackerEarth\n"
     ]
    }
   ],
   "source": [
    "# Loading all libraries\n",
    "import pandas as pd\n",
    "import numpy as np\n",
    "import matplotlib.pyplot as plt\n",
    "import seaborn as sns\n",
    "%matplotlib inline\n",
    "\n",
    "from statsmodels.stats.outliers_influence import variance_inflation_factor\n",
    "from sklearn.preprocessing import MinMaxScaler, RobustScaler, StandardScaler\n",
    "from sklearn.preprocessing import Imputer\n",
    "from sklearn.metrics import f1_score\n",
    "from sklearn.model_selection import train_test_split\n",
    "from sklearn.linear_model import LogisticRegression\n",
    "from sklearn.tree import DecisionTreeClassifier\n",
    "from sklearn.ensemble import RandomForestClassifier,AdaBoostClassifier, ExtraTreesClassifier,GradientBoostingClassifier\n",
    "from sklearn.metrics import classification_report, confusion_matrix, roc_auc_score, roc_curve\n",
    "from sklearn.model_selection import cross_val_score, KFold\n",
    "from sklearn.model_selection import GridSearchCV, RandomizedSearchCV\n",
    "\n",
    "from sklearn.discriminant_analysis import LinearDiscriminantAnalysis\n",
    "import datetime,time\n",
    "import warnings\n",
    "warnings.filterwarnings(\"ignore\")\n",
    "\n",
    "%cd D:\\IPython Jupyter\\HackerEarth"
   ]
  },
  {
   "cell_type": "markdown",
   "metadata": {},
   "source": [
    "### 1.) Exploratory Data Analysis"
   ]
  },
  {
   "cell_type": "code",
   "execution_count": 2,
   "metadata": {
    "collapsed": false,
    "scrolled": true
   },
   "outputs": [
    {
     "data": {
      "text/plain": [
       "((17521, 2395), (20442, 2394))"
      ]
     },
     "execution_count": 2,
     "metadata": {},
     "output_type": "execute_result"
    }
   ],
   "source": [
    "# Load Data\n",
    "df_train = pd.read_csv('Train.csv')\n",
    "df_test = pd.read_csv('Test.csv')\n",
    "df_train.shape, df_test.shape"
   ]
  },
  {
   "cell_type": "code",
   "execution_count": 3,
   "metadata": {
    "collapsed": false
   },
   "outputs": [
    {
     "data": {
      "text/plain": [
       "Index(['Col1', 'Col2', 'Col3', 'Col4', 'Col5', 'Col6', 'Col7', 'Col8', 'Col9',\n",
       "       'Col10',\n",
       "       ...\n",
       "       'Col2388', 'Col2389', 'Col2390', 'Col2391', 'Col2392', 'Col2393',\n",
       "       'Col2394', 'Col2395', 'Col2396', 'Col2397'],\n",
       "      dtype='object', length=2395)"
      ]
     },
     "execution_count": 3,
     "metadata": {},
     "output_type": "execute_result"
    }
   ],
   "source": [
    "df_train.columns"
   ]
  },
  {
   "cell_type": "code",
   "execution_count": 4,
   "metadata": {
    "collapsed": false
   },
   "outputs": [
    {
     "data": {
      "text/plain": [
       "((17521,), (2,))"
      ]
     },
     "execution_count": 4,
     "metadata": {},
     "output_type": "execute_result"
    }
   ],
   "source": [
    "# Unique IDs & Target Labels\n",
    "df_train['Col1'].unique().shape, df_train['Col2'].unique().shape"
   ]
  },
  {
   "cell_type": "code",
   "execution_count": 5,
   "metadata": {
    "collapsed": false
   },
   "outputs": [
    {
     "data": {
      "text/plain": [
       "0    15760\n",
       "1     1761\n",
       "Name: Col2, dtype: int64"
      ]
     },
     "execution_count": 5,
     "metadata": {},
     "output_type": "execute_result"
    }
   ],
   "source": [
    "df_train['Col2'].value_counts()"
   ]
  },
  {
   "cell_type": "markdown",
   "metadata": {},
   "source": [
    "* Only 11% (1761) of data is labeled as 1 (delinquent)"
   ]
  },
  {
   "cell_type": "code",
   "execution_count": null,
   "metadata": {
    "collapsed": true
   },
   "outputs": [],
   "source": []
  },
  {
   "cell_type": "markdown",
   "metadata": {},
   "source": [
    "#### 1.1) Categorical Variables"
   ]
  },
  {
   "cell_type": "code",
   "execution_count": 6,
   "metadata": {
    "collapsed": false
   },
   "outputs": [
    {
     "data": {
      "text/plain": [
       "Index(['Col1', 'Col747', 'Col836'], dtype='object')"
      ]
     },
     "execution_count": 6,
     "metadata": {},
     "output_type": "execute_result"
    }
   ],
   "source": [
    "df_train.select_dtypes(include=np.object).columns"
   ]
  },
  {
   "cell_type": "code",
   "execution_count": 7,
   "metadata": {
    "collapsed": false
   },
   "outputs": [
    {
     "data": {
      "text/plain": [
       "Col1          0\n",
       "Col747    16895\n",
       "Col836    16897\n",
       "dtype: int64"
      ]
     },
     "execution_count": 7,
     "metadata": {},
     "output_type": "execute_result"
    }
   ],
   "source": [
    "df_train.select_dtypes(include=np.object).isnull().sum()"
   ]
  },
  {
   "cell_type": "code",
   "execution_count": 8,
   "metadata": {
    "collapsed": false
   },
   "outputs": [
    {
     "data": {
      "text/plain": [
       "0.9642714456937389"
      ]
     },
     "execution_count": 8,
     "metadata": {},
     "output_type": "execute_result"
    }
   ],
   "source": [
    "16895/df_train.shape[0]"
   ]
  },
  {
   "cell_type": "code",
   "execution_count": 9,
   "metadata": {
    "collapsed": false,
    "scrolled": true
   },
   "outputs": [
    {
     "data": {
      "text/html": [
       "<div>\n",
       "<style scoped>\n",
       "    .dataframe tbody tr th:only-of-type {\n",
       "        vertical-align: middle;\n",
       "    }\n",
       "\n",
       "    .dataframe tbody tr th {\n",
       "        vertical-align: top;\n",
       "    }\n",
       "\n",
       "    .dataframe thead th {\n",
       "        text-align: right;\n",
       "    }\n",
       "</style>\n",
       "<table border=\"1\" class=\"dataframe\">\n",
       "  <thead>\n",
       "    <tr style=\"text-align: right;\">\n",
       "      <th></th>\n",
       "      <th>Col747</th>\n",
       "      <th>Col836</th>\n",
       "    </tr>\n",
       "  </thead>\n",
       "  <tbody>\n",
       "    <tr>\n",
       "      <th>10</th>\n",
       "      <td>-</td>\n",
       "      <td>-</td>\n",
       "    </tr>\n",
       "    <tr>\n",
       "      <th>37</th>\n",
       "      <td>0</td>\n",
       "      <td>0</td>\n",
       "    </tr>\n",
       "    <tr>\n",
       "      <th>310</th>\n",
       "      <td>0</td>\n",
       "      <td>-</td>\n",
       "    </tr>\n",
       "    <tr>\n",
       "      <th>369</th>\n",
       "      <td>1</td>\n",
       "      <td>0</td>\n",
       "    </tr>\n",
       "    <tr>\n",
       "      <th>535</th>\n",
       "      <td>-</td>\n",
       "      <td>NaN</td>\n",
       "    </tr>\n",
       "    <tr>\n",
       "      <th>1815</th>\n",
       "      <td>0</td>\n",
       "      <td>0</td>\n",
       "    </tr>\n",
       "    <tr>\n",
       "      <th>1881</th>\n",
       "      <td>5</td>\n",
       "      <td>0</td>\n",
       "    </tr>\n",
       "    <tr>\n",
       "      <th>3526</th>\n",
       "      <td>3</td>\n",
       "      <td>-</td>\n",
       "    </tr>\n",
       "    <tr>\n",
       "      <th>4848</th>\n",
       "      <td>1</td>\n",
       "      <td>-</td>\n",
       "    </tr>\n",
       "    <tr>\n",
       "      <th>5653</th>\n",
       "      <td>0</td>\n",
       "      <td>5</td>\n",
       "    </tr>\n",
       "    <tr>\n",
       "      <th>10793</th>\n",
       "      <td>0</td>\n",
       "      <td>0</td>\n",
       "    </tr>\n",
       "    <tr>\n",
       "      <th>10928</th>\n",
       "      <td>0</td>\n",
       "      <td>-</td>\n",
       "    </tr>\n",
       "  </tbody>\n",
       "</table>\n",
       "</div>"
      ],
      "text/plain": [
       "      Col747 Col836\n",
       "10         -      -\n",
       "37         0      0\n",
       "310        0      -\n",
       "369        1      0\n",
       "535        -    NaN\n",
       "1815       0      0\n",
       "1881       5      0\n",
       "3526       3      -\n",
       "4848       1      -\n",
       "5653       0      5\n",
       "10793      0      0\n",
       "10928      0      -"
      ]
     },
     "execution_count": 9,
     "metadata": {},
     "output_type": "execute_result"
    }
   ],
   "source": [
    "df_train[df_train['Col747'].isna()==False][['Col747','Col836']].drop_duplicates()"
   ]
  },
  {
   "cell_type": "markdown",
   "metadata": {},
   "source": [
    "* Other than ID columns (Col1), there are 2 categorical variables Col747 & Col836 (due to \"-\" values). As because ~96% of data for these 2 columns are missing, so will drop them at later stage while treating missing values"
   ]
  },
  {
   "cell_type": "markdown",
   "metadata": {},
   "source": [
    "#### 1.2) Numerical Variables\n",
    "* data distribution: Skewness & Kurtosis"
   ]
  },
  {
   "cell_type": "code",
   "execution_count": 10,
   "metadata": {
    "collapsed": false
   },
   "outputs": [
    {
     "name": "stdout",
     "output_type": "stream",
     "text": [
      "(2392, 2)\n"
     ]
    },
    {
     "data": {
      "text/html": [
       "<div>\n",
       "<style scoped>\n",
       "    .dataframe tbody tr th:only-of-type {\n",
       "        vertical-align: middle;\n",
       "    }\n",
       "\n",
       "    .dataframe tbody tr th {\n",
       "        vertical-align: top;\n",
       "    }\n",
       "\n",
       "    .dataframe thead th {\n",
       "        text-align: right;\n",
       "    }\n",
       "</style>\n",
       "<table border=\"1\" class=\"dataframe\">\n",
       "  <thead>\n",
       "    <tr style=\"text-align: right;\">\n",
       "      <th></th>\n",
       "      <th>Kurtosis</th>\n",
       "      <th>Skewness</th>\n",
       "    </tr>\n",
       "  </thead>\n",
       "  <tbody>\n",
       "    <tr>\n",
       "      <th>count</th>\n",
       "      <td>2392.000000</td>\n",
       "      <td>2392.000000</td>\n",
       "    </tr>\n",
       "    <tr>\n",
       "      <th>mean</th>\n",
       "      <td>517.470121</td>\n",
       "      <td>7.164199</td>\n",
       "    </tr>\n",
       "    <tr>\n",
       "      <th>std</th>\n",
       "      <td>2090.725403</td>\n",
       "      <td>19.984721</td>\n",
       "    </tr>\n",
       "    <tr>\n",
       "      <th>min</th>\n",
       "      <td>-2.800000</td>\n",
       "      <td>-100.455422</td>\n",
       "    </tr>\n",
       "    <tr>\n",
       "      <th>25%</th>\n",
       "      <td>-0.524502</td>\n",
       "      <td>0.401519</td>\n",
       "    </tr>\n",
       "    <tr>\n",
       "      <th>50%</th>\n",
       "      <td>0.828794</td>\n",
       "      <td>0.988994</td>\n",
       "    </tr>\n",
       "    <tr>\n",
       "      <th>75%</th>\n",
       "      <td>20.617927</td>\n",
       "      <td>3.958020</td>\n",
       "    </tr>\n",
       "    <tr>\n",
       "      <th>max</th>\n",
       "      <td>16466.012143</td>\n",
       "      <td>126.672824</td>\n",
       "    </tr>\n",
       "  </tbody>\n",
       "</table>\n",
       "</div>"
      ],
      "text/plain": [
       "           Kurtosis     Skewness\n",
       "count   2392.000000  2392.000000\n",
       "mean     517.470121     7.164199\n",
       "std     2090.725403    19.984721\n",
       "min       -2.800000  -100.455422\n",
       "25%       -0.524502     0.401519\n",
       "50%        0.828794     0.988994\n",
       "75%       20.617927     3.958020\n",
       "max    16466.012143   126.672824"
      ]
     },
     "execution_count": 10,
     "metadata": {},
     "output_type": "execute_result"
    }
   ],
   "source": [
    "temp = pd.DataFrame({\"Skewness\": df_train.skew(), \"Kurtosis\": df_train.kurt()})\n",
    "\n",
    "print(temp.shape)\n",
    "temp.describe()"
   ]
  },
  {
   "cell_type": "code",
   "execution_count": 11,
   "metadata": {
    "collapsed": false,
    "scrolled": true
   },
   "outputs": [
    {
     "name": "stdout",
     "output_type": "stream",
     "text": [
      "# columns with right Skewness: 1192\n",
      "# columns with left Skewness: 29\n",
      "# columns with high peak Kurtosis: 1186\n",
      "# columns with plateau peak Kurtosis: 66\n"
     ]
    }
   ],
   "source": [
    "print(\"# columns with right Skewness:\",temp[temp['Skewness'] > 1].shape[0])\n",
    "print(\"# columns with left Skewness:\",temp[temp['Skewness'] < -1].shape[0])\n",
    "\n",
    "print(\"# columns with high peak Kurtosis:\",temp[temp['Kurtosis'] > 1].shape[0])\n",
    "print(\"# columns with plateau peak Kurtosis:\",temp[temp['Kurtosis'] < -1].shape[0])"
   ]
  },
  {
   "cell_type": "markdown",
   "metadata": {},
   "source": [
    "* **Skewness:** The skewness for a normal distribution is 0. Left skewed data has -ve value & right has +ve values.\n",
    "    * If skewness is less than −1 or greater than +1, the distribution is highly skewed. If skewness is between −1 and −½ or between +½ and +1, the distribution is moderately skewed. If skewness is between −½ and +½, the distribution is approximately symmetric\n",
    "    * Here in our data half of the variables are highly skewed\n",
    "\n",
    "* **Kurtosis:** If the kurtosis is close to 0, then a normal distribution is often assumed.  These are called mesokurtic distributions.  If the kurtosis is less than zero, then the distribution is light tails and is called a platykurtic distribution.  If the kurtosis is greater than zero, then the distribution has heavier tails and is called a leptokurtic distribution.\n",
    "    * Here in our data half of the variables are not normally distributed"
   ]
  },
  {
   "cell_type": "code",
   "execution_count": null,
   "metadata": {
    "collapsed": true
   },
   "outputs": [],
   "source": []
  },
  {
   "cell_type": "markdown",
   "metadata": {},
   "source": [
    "#### 1.3) Missing data"
   ]
  },
  {
   "cell_type": "code",
   "execution_count": 12,
   "metadata": {
    "collapsed": false,
    "scrolled": false
   },
   "outputs": [
    {
     "name": "stdout",
     "output_type": "stream",
     "text": [
      "# missing Columns (>0%): 759\n",
      "# missing Columns (>40%): 228\n",
      "# missing Columns (>60%): 218\n",
      "# missing Columns (>80%): 113\n"
     ]
    }
   ],
   "source": [
    "total = df_train.isnull().sum().sort_values(ascending = False)\n",
    "percentage = (df_train.isnull().sum()/df_train.isnull().count()).sort_values(ascending = False)\n",
    "percentage = percentage*100\n",
    "missing_data = pd.concat([total,percentage], axis = 1, keys=['Total','percentage'])\n",
    "\n",
    "print(\"# missing Columns (>0%):\",missing_data[missing_data['percentage']>0].shape[0])\n",
    "print(\"# missing Columns (>40%):\",missing_data[missing_data['percentage']>40].shape[0])\n",
    "print(\"# missing Columns (>60%):\",missing_data[missing_data['percentage']>60].shape[0])\n",
    "print(\"# missing Columns (>80%):\",missing_data[missing_data['percentage']>80].shape[0])"
   ]
  },
  {
   "cell_type": "markdown",
   "metadata": {},
   "source": [
    "* 759 columns have at least one missing data point\n",
    "* 228 columns have more than 40% of data missing (drop these data), and impute missing data in rest of the variables"
   ]
  },
  {
   "cell_type": "code",
   "execution_count": null,
   "metadata": {
    "collapsed": true
   },
   "outputs": [],
   "source": []
  },
  {
   "cell_type": "markdown",
   "metadata": {},
   "source": [
    "### 2.) Data Preparation"
   ]
  },
  {
   "cell_type": "code",
   "execution_count": 13,
   "metadata": {
    "collapsed": false,
    "scrolled": true
   },
   "outputs": [
    {
     "data": {
      "text/plain": [
       "((17521, 2395), (20442, 2394))"
      ]
     },
     "execution_count": 13,
     "metadata": {},
     "output_type": "execute_result"
    }
   ],
   "source": [
    "# Combine Train+Test Data: Data Preparation\n",
    "df_train.shape, df_test.shape"
   ]
  },
  {
   "cell_type": "code",
   "execution_count": 14,
   "metadata": {
    "collapsed": false,
    "scrolled": true
   },
   "outputs": [
    {
     "name": "stdout",
     "output_type": "stream",
     "text": [
      "(37963, 2395)\n"
     ]
    }
   ],
   "source": [
    "df_test['Col2'] = 'NA'                                           # Adding test data's target variable as \"NA\"\n",
    "df_com = df_train.append(df_test, ignore_index=True)\n",
    "print(df_com.shape)"
   ]
  },
  {
   "cell_type": "code",
   "execution_count": 15,
   "metadata": {
    "collapsed": false,
    "scrolled": true
   },
   "outputs": [
    {
     "data": {
      "text/plain": [
       "Index(['Col702', 'Col733', 'Col742', 'Col747', 'Col754', 'Col763', 'Col791',\n",
       "       'Col813', 'Col822', 'Col831', 'Col836', 'Col843', 'Col852'],\n",
       "      dtype='object')"
      ]
     },
     "execution_count": 15,
     "metadata": {},
     "output_type": "execute_result"
    }
   ],
   "source": [
    "# Categorical variables\n",
    "df_com.select_dtypes(np.object).iloc[:,2:].columns"
   ]
  },
  {
   "cell_type": "markdown",
   "metadata": {},
   "source": [
    "* In combine data (Train + Test), 13 variables found to be as categorical variables, all because of some values have hyphen(\"-\"). Also, more than 90% of data is missing in these variables.\n",
    "* Let's drop variables with >50% missing values"
   ]
  },
  {
   "cell_type": "code",
   "execution_count": 16,
   "metadata": {
    "collapsed": false,
    "scrolled": false
   },
   "outputs": [
    {
     "data": {
      "text/plain": [
       "(37963, 2171)"
      ]
     },
     "execution_count": 16,
     "metadata": {},
     "output_type": "execute_result"
    }
   ],
   "source": [
    "# Drop variables with missing data >50%\n",
    "# Drop ID column & target as well\n",
    "df_com1 = df_com.loc[:,df_com.isnull().mean() < .5].drop(['Col1','Col2'],axis=1)\n",
    "df_com1.shape"
   ]
  },
  {
   "cell_type": "code",
   "execution_count": 17,
   "metadata": {
    "collapsed": false
   },
   "outputs": [
    {
     "data": {
      "text/plain": [
       "Index([], dtype='object')"
      ]
     },
     "execution_count": 17,
     "metadata": {},
     "output_type": "execute_result"
    }
   ],
   "source": [
    "# Check if still any categorical variable left after dropping missing variables\n",
    "df_com1.select_dtypes(np.object).columns"
   ]
  },
  {
   "cell_type": "code",
   "execution_count": 18,
   "metadata": {
    "collapsed": false
   },
   "outputs": [
    {
     "name": "stdout",
     "output_type": "stream",
     "text": [
      "0\n"
     ]
    },
    {
     "data": {
      "text/html": [
       "<div>\n",
       "<style scoped>\n",
       "    .dataframe tbody tr th:only-of-type {\n",
       "        vertical-align: middle;\n",
       "    }\n",
       "\n",
       "    .dataframe tbody tr th {\n",
       "        vertical-align: top;\n",
       "    }\n",
       "\n",
       "    .dataframe thead th {\n",
       "        text-align: right;\n",
       "    }\n",
       "</style>\n",
       "<table border=\"1\" class=\"dataframe\">\n",
       "  <thead>\n",
       "    <tr style=\"text-align: right;\">\n",
       "      <th></th>\n",
       "      <th>Col10</th>\n",
       "      <th>Col100</th>\n",
       "      <th>Col1000</th>\n",
       "      <th>Col1001</th>\n",
       "      <th>Col1002</th>\n",
       "      <th>Col1003</th>\n",
       "      <th>Col1004</th>\n",
       "      <th>Col1005</th>\n",
       "      <th>Col1006</th>\n",
       "      <th>Col1007</th>\n",
       "      <th>...</th>\n",
       "      <th>Col990</th>\n",
       "      <th>Col991</th>\n",
       "      <th>Col992</th>\n",
       "      <th>Col993</th>\n",
       "      <th>Col994</th>\n",
       "      <th>Col995</th>\n",
       "      <th>Col996</th>\n",
       "      <th>Col997</th>\n",
       "      <th>Col998</th>\n",
       "      <th>Col999</th>\n",
       "    </tr>\n",
       "  </thead>\n",
       "  <tbody>\n",
       "    <tr>\n",
       "      <th>0</th>\n",
       "      <td>2.871509e+04</td>\n",
       "      <td>0.0</td>\n",
       "      <td>2.0</td>\n",
       "      <td>3.0</td>\n",
       "      <td>2.0</td>\n",
       "      <td>1.0</td>\n",
       "      <td>0.0</td>\n",
       "      <td>0.0</td>\n",
       "      <td>3.0</td>\n",
       "      <td>2.0</td>\n",
       "      <td>...</td>\n",
       "      <td>0.0</td>\n",
       "      <td>0.0</td>\n",
       "      <td>0.0</td>\n",
       "      <td>0.0</td>\n",
       "      <td>1.0</td>\n",
       "      <td>2.0</td>\n",
       "      <td>2.0</td>\n",
       "      <td>1.0</td>\n",
       "      <td>2.0</td>\n",
       "      <td>3.0</td>\n",
       "    </tr>\n",
       "    <tr>\n",
       "      <th>1</th>\n",
       "      <td>1.666974e+05</td>\n",
       "      <td>0.0</td>\n",
       "      <td>3.0</td>\n",
       "      <td>1.0</td>\n",
       "      <td>0.0</td>\n",
       "      <td>0.0</td>\n",
       "      <td>1.0</td>\n",
       "      <td>0.0</td>\n",
       "      <td>0.0</td>\n",
       "      <td>0.0</td>\n",
       "      <td>...</td>\n",
       "      <td>0.0</td>\n",
       "      <td>0.0</td>\n",
       "      <td>0.0</td>\n",
       "      <td>0.0</td>\n",
       "      <td>1.0</td>\n",
       "      <td>0.0</td>\n",
       "      <td>0.0</td>\n",
       "      <td>0.0</td>\n",
       "      <td>1.0</td>\n",
       "      <td>0.0</td>\n",
       "    </tr>\n",
       "    <tr>\n",
       "      <th>2</th>\n",
       "      <td>6.906324e+06</td>\n",
       "      <td>1.0</td>\n",
       "      <td>4.0</td>\n",
       "      <td>0.0</td>\n",
       "      <td>0.0</td>\n",
       "      <td>0.0</td>\n",
       "      <td>2.0</td>\n",
       "      <td>2.0</td>\n",
       "      <td>2.0</td>\n",
       "      <td>0.0</td>\n",
       "      <td>...</td>\n",
       "      <td>1.0</td>\n",
       "      <td>0.0</td>\n",
       "      <td>0.0</td>\n",
       "      <td>0.0</td>\n",
       "      <td>2.0</td>\n",
       "      <td>2.0</td>\n",
       "      <td>3.0</td>\n",
       "      <td>1.0</td>\n",
       "      <td>4.0</td>\n",
       "      <td>0.0</td>\n",
       "    </tr>\n",
       "    <tr>\n",
       "      <th>3</th>\n",
       "      <td>4.236612e+05</td>\n",
       "      <td>1.0</td>\n",
       "      <td>4.0</td>\n",
       "      <td>0.0</td>\n",
       "      <td>0.0</td>\n",
       "      <td>0.0</td>\n",
       "      <td>3.0</td>\n",
       "      <td>1.0</td>\n",
       "      <td>3.0</td>\n",
       "      <td>0.0</td>\n",
       "      <td>...</td>\n",
       "      <td>0.0</td>\n",
       "      <td>0.0</td>\n",
       "      <td>0.0</td>\n",
       "      <td>0.0</td>\n",
       "      <td>2.0</td>\n",
       "      <td>2.0</td>\n",
       "      <td>0.0</td>\n",
       "      <td>0.0</td>\n",
       "      <td>4.0</td>\n",
       "      <td>0.0</td>\n",
       "    </tr>\n",
       "    <tr>\n",
       "      <th>4</th>\n",
       "      <td>5.446532e+06</td>\n",
       "      <td>1.0</td>\n",
       "      <td>4.0</td>\n",
       "      <td>0.0</td>\n",
       "      <td>0.0</td>\n",
       "      <td>0.0</td>\n",
       "      <td>0.0</td>\n",
       "      <td>0.0</td>\n",
       "      <td>0.0</td>\n",
       "      <td>0.0</td>\n",
       "      <td>...</td>\n",
       "      <td>0.0</td>\n",
       "      <td>0.0</td>\n",
       "      <td>1.0</td>\n",
       "      <td>2.0</td>\n",
       "      <td>4.0</td>\n",
       "      <td>0.0</td>\n",
       "      <td>3.0</td>\n",
       "      <td>0.0</td>\n",
       "      <td>0.0</td>\n",
       "      <td>0.0</td>\n",
       "    </tr>\n",
       "  </tbody>\n",
       "</table>\n",
       "<p>5 rows × 2171 columns</p>\n",
       "</div>"
      ],
      "text/plain": [
       "          Col10  Col100  Col1000  Col1001  Col1002  Col1003  Col1004  Col1005  \\\n",
       "0  2.871509e+04     0.0      2.0      3.0      2.0      1.0      0.0      0.0   \n",
       "1  1.666974e+05     0.0      3.0      1.0      0.0      0.0      1.0      0.0   \n",
       "2  6.906324e+06     1.0      4.0      0.0      0.0      0.0      2.0      2.0   \n",
       "3  4.236612e+05     1.0      4.0      0.0      0.0      0.0      3.0      1.0   \n",
       "4  5.446532e+06     1.0      4.0      0.0      0.0      0.0      0.0      0.0   \n",
       "\n",
       "   Col1006  Col1007  ...  Col990  Col991  Col992  Col993  Col994  Col995  \\\n",
       "0      3.0      2.0  ...     0.0     0.0     0.0     0.0     1.0     2.0   \n",
       "1      0.0      0.0  ...     0.0     0.0     0.0     0.0     1.0     0.0   \n",
       "2      2.0      0.0  ...     1.0     0.0     0.0     0.0     2.0     2.0   \n",
       "3      3.0      0.0  ...     0.0     0.0     0.0     0.0     2.0     2.0   \n",
       "4      0.0      0.0  ...     0.0     0.0     1.0     2.0     4.0     0.0   \n",
       "\n",
       "   Col996  Col997  Col998  Col999  \n",
       "0     2.0     1.0     2.0     3.0  \n",
       "1     0.0     0.0     1.0     0.0  \n",
       "2     3.0     1.0     4.0     0.0  \n",
       "3     0.0     0.0     4.0     0.0  \n",
       "4     3.0     0.0     0.0     0.0  \n",
       "\n",
       "[5 rows x 2171 columns]"
      ]
     },
     "execution_count": 18,
     "metadata": {},
     "output_type": "execute_result"
    }
   ],
   "source": [
    "# Impute missing values: fill missing values with median column values (bcz 50% of variables are not normally distributed)\n",
    "\n",
    "imputer = Imputer(strategy='median')\n",
    "df_com2 = pd.DataFrame(imputer.fit_transform(df_com1.values))\n",
    "df_com2.columns = df_com1.columns.to_list()\n",
    "\n",
    "# count the number of NaN values in each column\n",
    "print(df_com2.isnull().sum().sum())\n",
    "\n",
    "df_com2.head()"
   ]
  },
  {
   "cell_type": "code",
   "execution_count": 19,
   "metadata": {
    "collapsed": false
   },
   "outputs": [
    {
     "data": {
      "text/html": [
       "<div>\n",
       "<style scoped>\n",
       "    .dataframe tbody tr th:only-of-type {\n",
       "        vertical-align: middle;\n",
       "    }\n",
       "\n",
       "    .dataframe tbody tr th {\n",
       "        vertical-align: top;\n",
       "    }\n",
       "\n",
       "    .dataframe thead th {\n",
       "        text-align: right;\n",
       "    }\n",
       "</style>\n",
       "<table border=\"1\" class=\"dataframe\">\n",
       "  <thead>\n",
       "    <tr style=\"text-align: right;\">\n",
       "      <th></th>\n",
       "      <th>Col10</th>\n",
       "      <th>Col100</th>\n",
       "      <th>Col1000</th>\n",
       "      <th>Col1001</th>\n",
       "      <th>Col1002</th>\n",
       "      <th>Col1003</th>\n",
       "      <th>Col1004</th>\n",
       "      <th>Col1005</th>\n",
       "      <th>Col1006</th>\n",
       "      <th>Col1007</th>\n",
       "      <th>...</th>\n",
       "      <th>Col990</th>\n",
       "      <th>Col991</th>\n",
       "      <th>Col992</th>\n",
       "      <th>Col993</th>\n",
       "      <th>Col994</th>\n",
       "      <th>Col995</th>\n",
       "      <th>Col996</th>\n",
       "      <th>Col997</th>\n",
       "      <th>Col998</th>\n",
       "      <th>Col999</th>\n",
       "    </tr>\n",
       "  </thead>\n",
       "  <tbody>\n",
       "    <tr>\n",
       "      <th>0</th>\n",
       "      <td>0.000876</td>\n",
       "      <td>0.0</td>\n",
       "      <td>0.285714</td>\n",
       "      <td>0.6</td>\n",
       "      <td>0.333333</td>\n",
       "      <td>0.166667</td>\n",
       "      <td>0.000000</td>\n",
       "      <td>0.000000</td>\n",
       "      <td>0.375</td>\n",
       "      <td>0.4</td>\n",
       "      <td>...</td>\n",
       "      <td>0.00</td>\n",
       "      <td>0.0</td>\n",
       "      <td>0.00</td>\n",
       "      <td>0.000000</td>\n",
       "      <td>0.166667</td>\n",
       "      <td>0.5</td>\n",
       "      <td>0.333333</td>\n",
       "      <td>0.166667</td>\n",
       "      <td>0.333333</td>\n",
       "      <td>0.5</td>\n",
       "    </tr>\n",
       "    <tr>\n",
       "      <th>1</th>\n",
       "      <td>0.005086</td>\n",
       "      <td>0.0</td>\n",
       "      <td>0.428571</td>\n",
       "      <td>0.2</td>\n",
       "      <td>0.000000</td>\n",
       "      <td>0.000000</td>\n",
       "      <td>0.166667</td>\n",
       "      <td>0.000000</td>\n",
       "      <td>0.000</td>\n",
       "      <td>0.0</td>\n",
       "      <td>...</td>\n",
       "      <td>0.00</td>\n",
       "      <td>0.0</td>\n",
       "      <td>0.00</td>\n",
       "      <td>0.000000</td>\n",
       "      <td>0.166667</td>\n",
       "      <td>0.0</td>\n",
       "      <td>0.000000</td>\n",
       "      <td>0.000000</td>\n",
       "      <td>0.166667</td>\n",
       "      <td>0.0</td>\n",
       "    </tr>\n",
       "    <tr>\n",
       "      <th>2</th>\n",
       "      <td>0.210696</td>\n",
       "      <td>0.1</td>\n",
       "      <td>0.571429</td>\n",
       "      <td>0.0</td>\n",
       "      <td>0.000000</td>\n",
       "      <td>0.000000</td>\n",
       "      <td>0.333333</td>\n",
       "      <td>0.333333</td>\n",
       "      <td>0.250</td>\n",
       "      <td>0.0</td>\n",
       "      <td>...</td>\n",
       "      <td>0.25</td>\n",
       "      <td>0.0</td>\n",
       "      <td>0.00</td>\n",
       "      <td>0.000000</td>\n",
       "      <td>0.333333</td>\n",
       "      <td>0.5</td>\n",
       "      <td>0.500000</td>\n",
       "      <td>0.166667</td>\n",
       "      <td>0.666667</td>\n",
       "      <td>0.0</td>\n",
       "    </tr>\n",
       "    <tr>\n",
       "      <th>3</th>\n",
       "      <td>0.012925</td>\n",
       "      <td>0.1</td>\n",
       "      <td>0.571429</td>\n",
       "      <td>0.0</td>\n",
       "      <td>0.000000</td>\n",
       "      <td>0.000000</td>\n",
       "      <td>0.500000</td>\n",
       "      <td>0.166667</td>\n",
       "      <td>0.375</td>\n",
       "      <td>0.0</td>\n",
       "      <td>...</td>\n",
       "      <td>0.00</td>\n",
       "      <td>0.0</td>\n",
       "      <td>0.00</td>\n",
       "      <td>0.000000</td>\n",
       "      <td>0.333333</td>\n",
       "      <td>0.5</td>\n",
       "      <td>0.000000</td>\n",
       "      <td>0.000000</td>\n",
       "      <td>0.666667</td>\n",
       "      <td>0.0</td>\n",
       "    </tr>\n",
       "    <tr>\n",
       "      <th>4</th>\n",
       "      <td>0.166161</td>\n",
       "      <td>0.1</td>\n",
       "      <td>0.571429</td>\n",
       "      <td>0.0</td>\n",
       "      <td>0.000000</td>\n",
       "      <td>0.000000</td>\n",
       "      <td>0.000000</td>\n",
       "      <td>0.000000</td>\n",
       "      <td>0.000</td>\n",
       "      <td>0.0</td>\n",
       "      <td>...</td>\n",
       "      <td>0.00</td>\n",
       "      <td>0.0</td>\n",
       "      <td>0.25</td>\n",
       "      <td>0.666667</td>\n",
       "      <td>0.666667</td>\n",
       "      <td>0.0</td>\n",
       "      <td>0.500000</td>\n",
       "      <td>0.000000</td>\n",
       "      <td>0.000000</td>\n",
       "      <td>0.0</td>\n",
       "    </tr>\n",
       "  </tbody>\n",
       "</table>\n",
       "<p>5 rows × 2171 columns</p>\n",
       "</div>"
      ],
      "text/plain": [
       "      Col10  Col100   Col1000  Col1001   Col1002   Col1003   Col1004  \\\n",
       "0  0.000876     0.0  0.285714      0.6  0.333333  0.166667  0.000000   \n",
       "1  0.005086     0.0  0.428571      0.2  0.000000  0.000000  0.166667   \n",
       "2  0.210696     0.1  0.571429      0.0  0.000000  0.000000  0.333333   \n",
       "3  0.012925     0.1  0.571429      0.0  0.000000  0.000000  0.500000   \n",
       "4  0.166161     0.1  0.571429      0.0  0.000000  0.000000  0.000000   \n",
       "\n",
       "    Col1005  Col1006  Col1007  ...  Col990  Col991  Col992    Col993  \\\n",
       "0  0.000000    0.375      0.4  ...    0.00     0.0    0.00  0.000000   \n",
       "1  0.000000    0.000      0.0  ...    0.00     0.0    0.00  0.000000   \n",
       "2  0.333333    0.250      0.0  ...    0.25     0.0    0.00  0.000000   \n",
       "3  0.166667    0.375      0.0  ...    0.00     0.0    0.00  0.000000   \n",
       "4  0.000000    0.000      0.0  ...    0.00     0.0    0.25  0.666667   \n",
       "\n",
       "     Col994  Col995    Col996    Col997    Col998  Col999  \n",
       "0  0.166667     0.5  0.333333  0.166667  0.333333     0.5  \n",
       "1  0.166667     0.0  0.000000  0.000000  0.166667     0.0  \n",
       "2  0.333333     0.5  0.500000  0.166667  0.666667     0.0  \n",
       "3  0.333333     0.5  0.000000  0.000000  0.666667     0.0  \n",
       "4  0.666667     0.0  0.500000  0.000000  0.000000     0.0  \n",
       "\n",
       "[5 rows x 2171 columns]"
      ]
     },
     "execution_count": 19,
     "metadata": {},
     "output_type": "execute_result"
    }
   ],
   "source": [
    "# Data Normalization\n",
    "# scaler = StandardScaler()\n",
    "scaler = MinMaxScaler()\n",
    "# scaler = RobustScaler()\n",
    "df_com3 = pd.DataFrame(scaler.fit_transform(df_com2))\n",
    "df_com3.columns = df_com2.columns.to_list()\n",
    "df_com3.head()"
   ]
  },
  {
   "cell_type": "code",
   "execution_count": null,
   "metadata": {
    "collapsed": true
   },
   "outputs": [],
   "source": []
  },
  {
   "cell_type": "code",
   "execution_count": null,
   "metadata": {
    "collapsed": true
   },
   "outputs": [],
   "source": []
  },
  {
   "cell_type": "markdown",
   "metadata": {},
   "source": [
    "### 3.) Simple Model"
   ]
  },
  {
   "cell_type": "code",
   "execution_count": 20,
   "metadata": {
    "collapsed": true
   },
   "outputs": [],
   "source": [
    "def simple_model(alg):\n",
    "\n",
    "    # splitting data into training and validation set\n",
    "    xtrain, xtest, ytrain, ytest = train_test_split(train, df_train['Col2'].values.ravel(), random_state=42, test_size=0.2)\n",
    "    model = alg\n",
    "    model.fit(xtrain, ytrain) # training the model\n",
    "#     prediction = model.predict_proba(xtest) # predicting on the validation set\n",
    "#     prediction_int = prediction[:,1] >= 0.3 # if prediction is greater than or equal to 0.3 than 1 else 0\n",
    "#     prediction_int = prediction_int.astype(np.int)\n",
    "\n",
    "    print(\"f1_score:\",f1_score(ytest, model.predict(xtest))) # calculating f1 score\n",
    "    print(\"Accuracy on train data:\",model.score(xtrain,ytrain))\n",
    "    print(\"Accuracy on test data:\",model.score(xtest,ytest))"
   ]
  },
  {
   "cell_type": "code",
   "execution_count": 21,
   "metadata": {
    "collapsed": true
   },
   "outputs": [],
   "source": [
    "train = df_com3.iloc[:17521,:]\n",
    "test = df_com3.iloc[17521:,:]"
   ]
  },
  {
   "cell_type": "code",
   "execution_count": 22,
   "metadata": {
    "collapsed": false,
    "scrolled": false
   },
   "outputs": [
    {
     "name": "stdout",
     "output_type": "stream",
     "text": [
      "LR\n",
      "f1_score: 0.13778705636743216\n",
      "Accuracy on train data: 0.9154537671232876\n",
      "Accuracy on test data: 0.8821683309557775\n",
      "DTC\n",
      "f1_score: 0.2013605442176871\n",
      "Accuracy on train data: 0.9929366438356164\n",
      "Accuracy on test data: 0.8325249643366619\n",
      "RFC\n",
      "f1_score: 0.0717948717948718\n",
      "Accuracy on train data: 0.9779537671232876\n",
      "Accuracy on test data: 0.896718972895863\n",
      "ETC\n",
      "f1_score: 0.057291666666666664\n",
      "Accuracy on train data: 0.9929366438356164\n",
      "Accuracy on test data: 0.896718972895863\n",
      "ABC\n",
      "f1_score: 0.16143497757847533\n",
      "Accuracy on train data: 0.9018978310502284\n",
      "Accuracy on test data: 0.8932952924393723\n",
      "GBC\n",
      "f1_score: 0.1262135922330097\n",
      "Accuracy on train data: 0.9137414383561644\n",
      "Accuracy on test data: 0.8972895863052782\n"
     ]
    }
   ],
   "source": [
    "algs = [LogisticRegression(),DecisionTreeClassifier(),RandomForestClassifier(),ExtraTreesClassifier(),AdaBoostClassifier(),GradientBoostingClassifier()]\n",
    "algs_lst = ['LR','DTC','RFC','ETC','ABC','GBC']\n",
    "for alg,l in zip(algs,algs_lst):\n",
    "    print(l)\n",
    "    simple_model(alg=alg)"
   ]
  },
  {
   "cell_type": "markdown",
   "metadata": {},
   "source": [
    "### 4.) Hypertuning of Model"
   ]
  },
  {
   "cell_type": "code",
   "execution_count": 27,
   "metadata": {
    "collapsed": true
   },
   "outputs": [],
   "source": [
    "# Defining model with different evaluation metrics\n",
    "def model_evaluate(alg,th_val=0.5):\n",
    "    s = time.time()\n",
    "    train = df_com3.iloc[:17521,:]\n",
    "    test = df_com3.iloc[17521:,:]\n",
    "\n",
    "    xtrain, xtest, ytrain, ytest = train_test_split(train, df_train['Col2'].values.ravel(), random_state=42, test_size=0.2)\n",
    "    model = alg\n",
    "    # C=0.9,penalty='l2', class_weight='balanced',random_state=29\n",
    "    model.fit(xtrain, ytrain)\n",
    "    print(model)\n",
    "\n",
    "    # PREDICTION\n",
    "    prediction = model.predict_proba(xtest)       # predicting on the validation set\n",
    "    prediction_int = prediction[:,1] >= th_val    # if prediction is greater than or equal to 0.3 than 1 else 0\n",
    "    ypred = prediction_int.astype(np.int)\n",
    "\n",
    "    # F1-SCORE, ACCURACY\n",
    "    print(\"f1_score:\",f1_score(ytest, ypred))                       # calculating f1 score\n",
    "    print(\"Accuracy on train data:\",model.score(xtrain,ytrain))\n",
    "    print(\"Accuracy on test data:\",model.score(xtest,ytest))\n",
    "\n",
    "    # CLASSIFICATION REPORT\n",
    "    print(classification_report(ytest,ypred))\n",
    "\n",
    "    # CONFUSION MATRIX\n",
    "    print(pd.crosstab(ypred,ytest))\n",
    "\n",
    "    # AUC & ROC\n",
    "    ypred = model.predict_proba(xtest)[::,1]                 # predicting on the validation set\n",
    "    auc = roc_auc_score(ytest, ypred)\n",
    "    print(\"Area Under the Curve:\",auc)\n",
    "    fpr, tpr, thresholds = roc_curve(ytest, ypred)\n",
    "    plt.figure()\n",
    "    plt.plot(fpr, tpr, label='Logistic Regression (area = %0.2f)' % auc)\n",
    "    plt.plot([0, 1], [0, 1],'r--')\n",
    "    plt.xlim([0.0, 1.0])\n",
    "    plt.ylim([0.0, 1.05])\n",
    "    plt.xlabel('False Positive Rate'), plt.ylabel('True Positive Rate'), plt.title('Receiver operating characteristic')\n",
    "    plt.legend(loc=\"lower right\")\n",
    "    # plt.savefig('Log_ROC')\n",
    "    plt.show()\n",
    "\n",
    "    e = time.time()\n",
    "    print(e-s)"
   ]
  },
  {
   "cell_type": "markdown",
   "metadata": {},
   "source": [
    "#### 4.1) Logistic Regression"
   ]
  },
  {
   "cell_type": "code",
   "execution_count": 28,
   "metadata": {
    "collapsed": false
   },
   "outputs": [
    {
     "name": "stdout",
     "output_type": "stream",
     "text": [
      "(14016, 2171)\n",
      "1002.6561298370361\n"
     ]
    }
   ],
   "source": [
    "s = time.time()\n",
    "\n",
    "train = df_com3.iloc[:17521,:]\n",
    "test = df_com3.iloc[17521:,:]\n",
    "xtrain, xtest, ytrain, ytest = train_test_split(train, df_train['Col2'].values.ravel(), random_state=42, test_size=0.2)\n",
    "print(xtrain.shape)\n",
    "\n",
    "model = LogisticRegression(penalty='l2',class_weight='balanced')\n",
    "grid = {'C':[0.1,0.5,0.9]\n",
    "#         'penalty':['l1','l2'],\n",
    "#         'class_weight':['balanced']\n",
    "       }\n",
    "# cv = KFold(n_splits = 10, shuffle=True, random_state = 7)\n",
    "clf = RandomizedSearchCV(model, grid, n_jobs=8, cv=None,scoring='roc_auc')\n",
    "clf.fit(xtrain, ytrain)\n",
    "\n",
    "e = time.time()\n",
    "print(e-s)"
   ]
  },
  {
   "cell_type": "code",
   "execution_count": 30,
   "metadata": {
    "collapsed": false
   },
   "outputs": [
    {
     "data": {
      "text/plain": [
       "(0.6705342847694009, {'C': 0.1})"
      ]
     },
     "execution_count": 30,
     "metadata": {},
     "output_type": "execute_result"
    }
   ],
   "source": [
    "clf.best_score_, clf.best_params_"
   ]
  },
  {
   "cell_type": "code",
   "execution_count": 32,
   "metadata": {
    "collapsed": false
   },
   "outputs": [
    {
     "name": "stdout",
     "output_type": "stream",
     "text": [
      "0.6705342847694009 0.00815712870764445 {'C': 0.1}\n",
      "0.6465862354608748 0.009348602933324722 {'C': 0.5}\n",
      "0.638806559523418 0.009453832086113667 {'C': 0.9}\n"
     ]
    }
   ],
   "source": [
    "means = clf.cv_results_['mean_test_score']\n",
    "stds = clf.cv_results_['std_test_score']\n",
    "params = clf.cv_results_['params']\n",
    "for m,s,p in zip(means,stds,params):\n",
    "    print(m,s,p)"
   ]
  },
  {
   "cell_type": "code",
   "execution_count": 33,
   "metadata": {
    "collapsed": false,
    "scrolled": true
   },
   "outputs": [
    {
     "name": "stdout",
     "output_type": "stream",
     "text": [
      "LogisticRegression(C=0.9, class_weight='balanced', dual=False,\n",
      "                   fit_intercept=True, intercept_scaling=1, l1_ratio=None,\n",
      "                   max_iter=100, multi_class='warn', n_jobs=None, penalty='l2',\n",
      "                   random_state=29, solver='warn', tol=0.0001, verbose=0,\n",
      "                   warm_start=False)\n",
      "f1_score: 0.2523240371845949\n",
      "Accuracy on train data: 0.7438641552511416\n",
      "Accuracy on test data: 0.6787446504992868\n",
      "              precision    recall  f1-score   support\n",
      "\n",
      "           0       0.93      0.69      0.80      3150\n",
      "           1       0.17      0.54      0.25       355\n",
      "\n",
      "    accuracy                           0.68      3505\n",
      "   macro avg       0.55      0.62      0.52      3505\n",
      "weighted avg       0.85      0.68      0.74      3505\n",
      "\n",
      "col_0     0    1\n",
      "row_0           \n",
      "0      2189  165\n",
      "1       961  190\n",
      "Area Under the Curve: 0.6628039347194276\n"
     ]
    },
    {
     "data": {
      "image/png": "[encoded data removed]",
      "text/plain": [
       "<matplotlib.figure.Figure at 0x1b908d33a90>"
      ]
     },
     "metadata": {},
     "output_type": "display_data"
    },
    {
     "name": "stdout",
     "output_type": "stream",
     "text": [
      "355.5143482685089\n"
     ]
    }
   ],
   "source": [
    "model_evaluate(LogisticRegression(C=0.9,penalty='l2',class_weight='balanced',random_state=29))"
   ]
  },
  {
   "cell_type": "code",
   "execution_count": 70,
   "metadata": {
    "collapsed": false
   },
   "outputs": [
    {
     "name": "stdout",
     "output_type": "stream",
     "text": [
      "10-fold cross validation average accuracy on train data: 0.544\n",
      "10-fold cross validation average accuracy on test data: 0.533\n",
      "results_train: [0.5504462  0.54153613 0.50448858 0.55744949 0.52753724 0.53087162\n",
      " 0.53104885 0.53600492 0.56236165 0.59658208]\n",
      "results_test: [0.51505941 0.55023908 0.5520362  0.60452015 0.53253208 0.52695182\n",
      " 0.51496674 0.50300613 0.55477818 0.48065052]\n"
     ]
    }
   ],
   "source": [
    "# Cross Validation\n",
    "from sklearn.model_selection import cross_val_score, KFold\n",
    "\n",
    "xtrain, xtest, ytrain, ytest = train_test_split(train, df_train['Col2'].values.ravel(), random_state=42, test_size=0.2)\n",
    "kfold = KFold(n_splits = 10, random_state = 7)\n",
    "modelCV = LogisticRegression(C=0.9,penalty='l2',class_weight='balanced',random_state=29)\n",
    "scoring = 'f1_macro'\n",
    "results_train = cross_val_score(modelCV, xtrain, ytrain, scoring = scoring, cv = kfold)\n",
    "results_test = cross_val_score(modelCV, xtest, ytest, scoring = scoring, cv = kfold)\n",
    "print(\"10-fold cross validation average accuracy on train data: %.3f\" % (results_train.mean()))\n",
    "print(\"10-fold cross validation average accuracy on test data: %.3f\" % (results_test.mean()))\n",
    "print(\"results_train:\",results_train)\n",
    "print(\"results_test:\",results_test)"
   ]
  },
  {
   "cell_type": "code",
   "execution_count": null,
   "metadata": {
    "collapsed": true
   },
   "outputs": [],
   "source": []
  },
  {
   "cell_type": "markdown",
   "metadata": {},
   "source": [
    "#### 4.2) Random Forest"
   ]
  },
  {
   "cell_type": "code",
   "execution_count": 172,
   "metadata": {
    "collapsed": false
   },
   "outputs": [
    {
     "name": "stdout",
     "output_type": "stream",
     "text": [
      "Fitting 3 folds for each of 54 candidates, totalling 162 fits\n"
     ]
    },
    {
     "name": "stderr",
     "output_type": "stream",
     "text": [
      "[Parallel(n_jobs=-1)]: Using backend LokyBackend with 4 concurrent workers.\n",
      "[Parallel(n_jobs=-1)]: Done  42 tasks      | elapsed:  4.3min\n",
      "[Parallel(n_jobs=-1)]: Done 162 out of 162 | elapsed: 11.8min finished\n"
     ]
    },
    {
     "name": "stdout",
     "output_type": "stream",
     "text": [
      "733.1345026493073\n"
     ]
    }
   ],
   "source": [
    "s = time.time()\n",
    "\n",
    "n_estimators = [10, 50,100]\n",
    "max_depth = [15, 20, 25]\n",
    "min_samples_split = [10, 20, 30]\n",
    "min_samples_leaf = [10, 20] \n",
    "\n",
    "train = df_com3.iloc[:17521,:]\n",
    "xtrain, xtest, ytrain, ytest = train_test_split(train, df_train['Col2'].values.ravel(), random_state=42, test_size=0.2)\n",
    "\n",
    "hyperF = dict(n_estimators = n_estimators, max_depth = max_depth,  \n",
    "              min_samples_split = min_samples_split, \n",
    "             min_samples_leaf = min_samples_leaf)\n",
    "\n",
    "model = RandomForestClassifier(random_state=29)\n",
    "gridF = GridSearchCV(model, hyperF, verbose = 1,scoring='roc_auc', n_jobs = -1)\n",
    "bestF = gridF.fit(xtrain, ytrain)\n",
    "\n",
    "e = time.time()\n",
    "print(e-s)"
   ]
  },
  {
   "cell_type": "code",
   "execution_count": 173,
   "metadata": {
    "collapsed": false,
    "scrolled": false
   },
   "outputs": [
    {
     "data": {
      "text/plain": [
       "(0.7232990672607187,\n",
       " {'max_depth': 15,\n",
       "  'min_samples_leaf': 20,\n",
       "  'min_samples_split': 10,\n",
       "  'n_estimators': 100})"
      ]
     },
     "execution_count": 173,
     "metadata": {},
     "output_type": "execute_result"
    }
   ],
   "source": [
    "bestF.best_score_, bestF.best_params_"
   ]
  },
  {
   "cell_type": "code",
   "execution_count": 174,
   "metadata": {
    "collapsed": false,
    "scrolled": true
   },
   "outputs": [
    {
     "name": "stdout",
     "output_type": "stream",
     "text": [
      "0.6852743307337466 0.007391312475788964 {'min_samples_split': 10, 'min_samples_leaf': 10, 'max_depth': 15, 'n_estimators': 10}\n",
      "0.71421864518855 0.008042311047792175 {'min_samples_split': 10, 'min_samples_leaf': 10, 'max_depth': 15, 'n_estimators': 50}\n",
      "0.7204251996126552 0.006544846137654559 {'min_samples_split': 10, 'min_samples_leaf': 10, 'max_depth': 15, 'n_estimators': 100}\n",
      "0.6852743307337466 0.007391312475788964 {'min_samples_split': 20, 'min_samples_leaf': 10, 'max_depth': 15, 'n_estimators': 10}\n",
      "0.71421864518855 0.008042311047792175 {'min_samples_split': 20, 'min_samples_leaf': 10, 'max_depth': 15, 'n_estimators': 50}\n",
      "0.7204251996126552 0.006544846137654559 {'min_samples_split': 20, 'min_samples_leaf': 10, 'max_depth': 15, 'n_estimators': 100}\n",
      "0.6890879398800783 0.00628432888914376 {'min_samples_split': 30, 'min_samples_leaf': 10, 'max_depth': 15, 'n_estimators': 10}\n",
      "0.7178922307459714 0.00816716869864517 {'min_samples_split': 30, 'min_samples_leaf': 10, 'max_depth': 15, 'n_estimators': 50}\n",
      "0.7210156679952792 0.007076979826764244 {'min_samples_split': 30, 'min_samples_leaf': 10, 'max_depth': 15, 'n_estimators': 100}\n",
      "0.6949113080499285 0.0028779784495438425 {'min_samples_split': 10, 'min_samples_leaf': 20, 'max_depth': 15, 'n_estimators': 10}\n",
      "0.717487116385625 0.0028554712010189767 {'min_samples_split': 10, 'min_samples_leaf': 20, 'max_depth': 15, 'n_estimators': 50}\n",
      "0.7232990672607187 0.004737810340472512 {'min_samples_split': 10, 'min_samples_leaf': 20, 'max_depth': 15, 'n_estimators': 100}\n",
      "0.6949113080499285 0.0028779784495438425 {'min_samples_split': 20, 'min_samples_leaf': 20, 'max_depth': 15, 'n_estimators': 10}\n",
      "0.717487116385625 0.0028554712010189767 {'min_samples_split': 20, 'min_samples_leaf': 20, 'max_depth': 15, 'n_estimators': 50}\n",
      "0.7232990672607187 0.004737810340472512 {'min_samples_split': 20, 'min_samples_leaf': 20, 'max_depth': 15, 'n_estimators': 100}\n",
      "0.6949113080499285 0.0028779784495438425 {'min_samples_split': 30, 'min_samples_leaf': 20, 'max_depth': 15, 'n_estimators': 10}\n",
      "0.717487116385625 0.0028554712010189767 {'min_samples_split': 30, 'min_samples_leaf': 20, 'max_depth': 15, 'n_estimators': 50}\n",
      "0.7232990672607187 0.004737810340472512 {'min_samples_split': 30, 'min_samples_leaf': 20, 'max_depth': 15, 'n_estimators': 100}\n",
      "0.6832749395941129 0.012436959431041837 {'min_samples_split': 10, 'min_samples_leaf': 10, 'max_depth': 20, 'n_estimators': 10}\n",
      "0.7124675725285005 0.006261887183055288 {'min_samples_split': 10, 'min_samples_leaf': 10, 'max_depth': 20, 'n_estimators': 50}\n",
      "0.7189758429564608 0.007963849932257195 {'min_samples_split': 10, 'min_samples_leaf': 10, 'max_depth': 20, 'n_estimators': 100}\n",
      "0.6832749395941129 0.012436959431041837 {'min_samples_split': 20, 'min_samples_leaf': 10, 'max_depth': 20, 'n_estimators': 10}\n",
      "0.7124675725285005 0.006261887183055288 {'min_samples_split': 20, 'min_samples_leaf': 10, 'max_depth': 20, 'n_estimators': 50}\n",
      "0.7189758429564608 0.007963849932257195 {'min_samples_split': 20, 'min_samples_leaf': 10, 'max_depth': 20, 'n_estimators': 100}\n",
      "0.6847654322828876 0.019365669996603867 {'min_samples_split': 30, 'min_samples_leaf': 10, 'max_depth': 20, 'n_estimators': 10}\n",
      "0.7156859209135285 0.011322542314457118 {'min_samples_split': 30, 'min_samples_leaf': 10, 'max_depth': 20, 'n_estimators': 50}\n",
      "0.7200034856809725 0.01043266677278364 {'min_samples_split': 30, 'min_samples_leaf': 10, 'max_depth': 20, 'n_estimators': 100}\n",
      "0.6935066530197842 0.008671853580331774 {'min_samples_split': 10, 'min_samples_leaf': 20, 'max_depth': 20, 'n_estimators': 10}\n",
      "0.7178183436540859 0.007389724643767244 {'min_samples_split': 10, 'min_samples_leaf': 20, 'max_depth': 20, 'n_estimators': 50}\n",
      "0.7226741661082141 0.007009295417921357 {'min_samples_split': 10, 'min_samples_leaf': 20, 'max_depth': 20, 'n_estimators': 100}\n",
      "0.6935066530197842 0.008671853580331774 {'min_samples_split': 20, 'min_samples_leaf': 20, 'max_depth': 20, 'n_estimators': 10}\n",
      "0.7178183436540859 0.007389724643767244 {'min_samples_split': 20, 'min_samples_leaf': 20, 'max_depth': 20, 'n_estimators': 50}\n",
      "0.7226741661082141 0.007009295417921357 {'min_samples_split': 20, 'min_samples_leaf': 20, 'max_depth': 20, 'n_estimators': 100}\n",
      "0.6935066530197842 0.008671853580331774 {'min_samples_split': 30, 'min_samples_leaf': 20, 'max_depth': 20, 'n_estimators': 10}\n",
      "0.7178183436540859 0.007389724643767244 {'min_samples_split': 30, 'min_samples_leaf': 20, 'max_depth': 20, 'n_estimators': 50}\n",
      "0.7226741661082141 0.007009295417921357 {'min_samples_split': 30, 'min_samples_leaf': 20, 'max_depth': 20, 'n_estimators': 100}\n",
      "0.6841411534388773 0.01938223362131603 {'min_samples_split': 10, 'min_samples_leaf': 10, 'max_depth': 25, 'n_estimators': 10}\n",
      "0.7122819965799932 0.009490090796857592 {'min_samples_split': 10, 'min_samples_leaf': 10, 'max_depth': 25, 'n_estimators': 50}\n",
      "0.7167729785621485 0.010175845059009732 {'min_samples_split': 10, 'min_samples_leaf': 10, 'max_depth': 25, 'n_estimators': 100}\n",
      "0.6841411534388773 0.01938223362131603 {'min_samples_split': 20, 'min_samples_leaf': 10, 'max_depth': 25, 'n_estimators': 10}\n",
      "0.7122819965799932 0.009490090796857592 {'min_samples_split': 20, 'min_samples_leaf': 10, 'max_depth': 25, 'n_estimators': 50}\n",
      "0.7167729785621485 0.010175845059009732 {'min_samples_split': 20, 'min_samples_leaf': 10, 'max_depth': 25, 'n_estimators': 100}\n",
      "0.6931497502076215 0.012159239541381628 {'min_samples_split': 30, 'min_samples_leaf': 10, 'max_depth': 25, 'n_estimators': 10}\n",
      "0.7177372927154301 0.011109871818928205 {'min_samples_split': 30, 'min_samples_leaf': 10, 'max_depth': 25, 'n_estimators': 50}\n",
      "0.7206203011394642 0.008412221570134949 {'min_samples_split': 30, 'min_samples_leaf': 10, 'max_depth': 25, 'n_estimators': 100}\n",
      "0.6948572163308054 0.0099745482760726 {'min_samples_split': 10, 'min_samples_leaf': 20, 'max_depth': 25, 'n_estimators': 10}\n",
      "0.717106076625491 0.007419432094778725 {'min_samples_split': 10, 'min_samples_leaf': 20, 'max_depth': 25, 'n_estimators': 50}\n",
      "0.7223368784628733 0.006985525167656909 {'min_samples_split': 10, 'min_samples_leaf': 20, 'max_depth': 25, 'n_estimators': 100}\n",
      "0.6948572163308054 0.0099745482760726 {'min_samples_split': 20, 'min_samples_leaf': 20, 'max_depth': 25, 'n_estimators': 10}\n",
      "0.717106076625491 0.007419432094778725 {'min_samples_split': 20, 'min_samples_leaf': 20, 'max_depth': 25, 'n_estimators': 50}\n",
      "0.7223368784628733 0.006985525167656909 {'min_samples_split': 20, 'min_samples_leaf': 20, 'max_depth': 25, 'n_estimators': 100}\n",
      "0.6948572163308054 0.0099745482760726 {'min_samples_split': 30, 'min_samples_leaf': 20, 'max_depth': 25, 'n_estimators': 10}\n",
      "0.717106076625491 0.007419432094778725 {'min_samples_split': 30, 'min_samples_leaf': 20, 'max_depth': 25, 'n_estimators': 50}\n",
      "0.7223368784628733 0.006985525167656909 {'min_samples_split': 30, 'min_samples_leaf': 20, 'max_depth': 25, 'n_estimators': 100}\n"
     ]
    }
   ],
   "source": [
    "means = bestF.cv_results_['mean_test_score']\n",
    "stds = bestF.cv_results_['std_test_score']\n",
    "params = bestF.cv_results_['params']\n",
    "for m,s,p in zip(means,stds,params):\n",
    "    print(m,s,p)"
   ]
  },
  {
   "cell_type": "code",
   "execution_count": 175,
   "metadata": {
    "collapsed": false,
    "scrolled": true
   },
   "outputs": [
    {
     "name": "stdout",
     "output_type": "stream",
     "text": [
      "RandomForestClassifier(bootstrap=True, class_weight='balanced',\n",
      "                       criterion='gini', max_depth=10, max_features='auto',\n",
      "                       max_leaf_nodes=None, min_impurity_decrease=0.0,\n",
      "                       min_impurity_split=None, min_samples_leaf=20,\n",
      "                       min_samples_split=10, min_weight_fraction_leaf=0.0,\n",
      "                       n_estimators=200, n_jobs=None, oob_score=False,\n",
      "                       random_state=29, verbose=0, warm_start=False)\n",
      "f1_score: 0.3107721639656816\n",
      "Accuracy on train data: 0.8514554794520548\n",
      "Accuracy on test data: 0.7937232524964337\n",
      "              precision    recall  f1-score   support\n",
      "\n",
      "           0       0.93      0.83      0.88      3150\n",
      "           1       0.23      0.46      0.31       355\n",
      "\n",
      "    accuracy                           0.79      3505\n",
      "   macro avg       0.58      0.65      0.59      3505\n",
      "weighted avg       0.86      0.79      0.82      3505\n",
      "\n",
      "col_0     0    1\n",
      "row_0           \n",
      "0      2619  192\n",
      "1       531  163\n",
      "Area Under the Curve: 0.7189488039347194\n"
     ]
    },
    {
     "data": {
      "image/png": "[encoded data removed]",
      "text/plain": [
       "<matplotlib.figure.Figure at 0x1b92b3fcf60>"
      ]
     },
     "metadata": {},
     "output_type": "display_data"
    },
    {
     "name": "stdout",
     "output_type": "stream",
     "text": [
      "33.99060297012329\n"
     ]
    }
   ],
   "source": [
    "model_evaluate(RandomForestClassifier(n_estimators=200, class_weight='balanced', max_depth=10, min_samples_split=10, \n",
    "                                      min_samples_leaf=20, random_state=29),th_val=0.5)"
   ]
  },
  {
   "cell_type": "code",
   "execution_count": null,
   "metadata": {
    "collapsed": true
   },
   "outputs": [],
   "source": []
  },
  {
   "cell_type": "code",
   "execution_count": null,
   "metadata": {
    "collapsed": true
   },
   "outputs": [],
   "source": []
  },
  {
   "cell_type": "markdown",
   "metadata": {},
   "source": [
    "### 5.) Final Model"
   ]
  },
  {
   "cell_type": "code",
   "execution_count": 177,
   "metadata": {
    "collapsed": false,
    "scrolled": true
   },
   "outputs": [
    {
     "name": "stdout",
     "output_type": "stream",
     "text": [
      "(17521, 2171) (20442, 2171) (17521,)\n"
     ]
    },
    {
     "data": {
      "text/plain": [
       "RandomForestClassifier(bootstrap=True, class_weight='balanced',\n",
       "                       criterion='gini', max_depth=10, max_features='auto',\n",
       "                       max_leaf_nodes=None, min_impurity_decrease=0.0,\n",
       "                       min_impurity_split=None, min_samples_leaf=20,\n",
       "                       min_samples_split=10, min_weight_fraction_leaf=0.0,\n",
       "                       n_estimators=200, n_jobs=None, oob_score=False,\n",
       "                       random_state=29, verbose=0, warm_start=False)"
      ]
     },
     "execution_count": 177,
     "metadata": {},
     "output_type": "execute_result"
    }
   ],
   "source": [
    "s = time.time()\n",
    "\n",
    "train = df_com3.iloc[:17521,:]\n",
    "test = df_com3.iloc[17521:,:]\n",
    "ytrain = df_train['Col2'].values.ravel()\n",
    "print(train.shape,test.shape,ytrain.shape)\n",
    "\n",
    "# model = LogisticRegression(C=0.9,penalty='l2',class_weight='balanced',random_state=29)\n",
    "\n",
    "model = RandomForestClassifier(n_estimators=200, class_weight='balanced', max_depth=10, min_samples_split=10, \n",
    "                                      min_samples_leaf=20, random_state=29)\n",
    "\n",
    "model.fit(train, ytrain)"
   ]
  },
  {
   "cell_type": "code",
   "execution_count": 178,
   "metadata": {
    "collapsed": false,
    "scrolled": true
   },
   "outputs": [
    {
     "name": "stdout",
     "output_type": "stream",
     "text": [
      "(20442, 2) \n",
      " 0    19443\n",
      "1      999\n",
      "Name: Col2, dtype: int64\n"
     ]
    }
   ],
   "source": [
    "# Prediction\n",
    "prediction = model.predict_proba(test)                   # predicting on the validation set\n",
    "prediction_int = prediction[:,1] >= 0.608                # if prediction is greater than or equal to 0.6 than 1 else 0\n",
    "prediction_int = prediction_int.astype(np.int)\n",
    "\n",
    "df_sample_submission = pd.DataFrame()\n",
    "df_sample_submission['Col1'] = df_test['Col1']\n",
    "df_sample_submission['Col2'] = prediction_int\n",
    "\n",
    "print(df_sample_submission.shape, '\\n', df_sample_submission['Col2'].value_counts())"
   ]
  },
  {
   "cell_type": "code",
   "execution_count": 179,
   "metadata": {
    "collapsed": false
   },
   "outputs": [],
   "source": [
    "df_sample_submission.to_csv('submission_file.csv',index=False)"
   ]
  },
  {
   "cell_type": "code",
   "execution_count": null,
   "metadata": {
    "collapsed": true
   },
   "outputs": [],
   "source": []
  },
  {
   "cell_type": "code",
   "execution_count": null,
   "metadata": {
    "collapsed": true
   },
   "outputs": [],
   "source": []
  },
  {
   "cell_type": "code",
   "execution_count": null,
   "metadata": {
    "collapsed": true
   },
   "outputs": [],
   "source": []
  },
  {
   "cell_type": "code",
   "execution_count": null,
   "metadata": {
    "collapsed": true
   },
   "outputs": [],
   "source": []
  },
  {
   "cell_type": "code",
   "execution_count": null,
   "metadata": {
    "collapsed": true
   },
   "outputs": [],
   "source": []
  }
 ],
 "metadata": {
  "kernelspec": {
   "display_name": "Python 3",
   "language": "python",
   "name": "python3"
  },
  "language_info": {
   "codemirror_mode": {
    "name": "ipython",
    "version": 3
   },
   "file_extension": ".py",
   "mimetype": "text/x-python",
   "name": "python",
   "nbconvert_exporter": "python",
   "pygments_lexer": "ipython3",
   "version": "3.5.4"
  }
 },
 "nbformat": 4,
 "nbformat_minor": 2
}
